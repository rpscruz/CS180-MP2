{
 "cells": [
  {
   "cell_type": "code",
   "execution_count": 12,
   "metadata": {},
   "outputs": [],
   "source": [
    "import os\n",
    "import nibabel\n",
    "import numpy as np\n",
    "import imageio\n",
    "\n",
    "dir_path = os.getcwd()\n",
    "\n",
    "def convert_3d_to_2d(samples_len):\n",
    "    # scans = np.ndarray(shape=(0, 512, 512))\n",
    "    # masks = np.ndarray(shape=(0, 512, 512))\n",
    "    print(scans.shape)\n",
    "    print(scans)\n",
    "\n",
    "\n",
    "    for i in range(0 + 1, samples_len + 1): # 40 + 1): # 1-indexed data\n",
    "        print(str(i).rjust(2, '0'))\n",
    "        scan_filename = \"{}/dataset_preprocess/train/scans/Patient_{}.nii.gz\".format(dir_path, str(i).rjust(2, '0'))\n",
    "        mask_filename = \"{}/dataset_preprocess/train/masks/Patient_{}_GT.nii.gz\".format(dir_path, str(i).rjust(2, '0'))\n",
    "        print(mask_filename)\n",
    "        print(\"load_scans: loaded file\")\n",
    "        scan = nibabel.load(scan_filename)\n",
    "        mask = nibabel.load(mask_filename)\n",
    "\n",
    "        print(\"load_scans: loaded data\")\n",
    "        scan_data = scan.get_data()\n",
    "        mask_data = mask.get_data()\n",
    "\n",
    "        scan_data = scan_data.T\n",
    "        mask_data = mask_data.T\n",
    "        result = np.where(mask_data>0, 255, mask_data) \n",
    "\n",
    "        \n",
    "        for slide in range(len(scan_data)):\n",
    "            imageio.imwrite(\"data/scans/{}_{}.png\".format(i, slide), scan_data[slide])\n",
    "            imageio.imwrite(\"data/masks/{}_{}.png\".format(i, slide), result[slide])\n",
    "        \n",
    "\n",
    "        print(scans.shape)\n",
    "        print(scan_data.shape)\n",
    "    return"
   ]
  },
  {
   "cell_type": "code",
   "execution_count": 16,
   "metadata": {},
   "outputs": [],
   "source": [
    "import numpy as np\n",
    "def load_scans():\n",
    "    scans, masks = [], []\n",
    "    i = 0\n",
    "    for scan_path in glob.glob(\"{}/data/scans/*_*.png\".format(dir_path)):\n",
    "        scan = imageio.imread(scan_path)\n",
    "        scans.append(scan)\n",
    "        i = i + 1\n",
    "\n",
    "    k = 0\n",
    "    for mask_path in glob.glob(\"{}/data/masks/*_*.png\".format(dir_path)):\n",
    "        mask = imageio.imread(mask_path)\n",
    "        masks.append(mask)\n",
    "        k = k + 1\n",
    "\n",
    "    print(i, k)\n",
    "    scans = np.asarray(scans)\n",
    "    masks = np.asarray(masks)\n",
    "    return scans, masks"
   ]
  },
  {
   "cell_type": "code",
   "execution_count": 17,
   "metadata": {},
   "outputs": [
    {
     "name": "stdout",
     "output_type": "stream",
     "text": [
      "7420 7420\n"
     ]
    }
   ],
   "source": [
    "scans, masks = load_scans()"
   ]
  },
  {
   "cell_type": "code",
   "execution_count": null,
   "metadata": {},
   "outputs": [],
   "source": []
  }
 ],
 "metadata": {
  "kernelspec": {
   "display_name": "Python 3",
   "language": "python",
   "name": "python3"
  },
  "language_info": {
   "codemirror_mode": {
    "name": "ipython",
    "version": 3
   },
   "file_extension": ".py",
   "mimetype": "text/x-python",
   "name": "python",
   "nbconvert_exporter": "python",
   "pygments_lexer": "ipython3",
   "version": "3.6.5"
  }
 },
 "nbformat": 4,
 "nbformat_minor": 2
}
