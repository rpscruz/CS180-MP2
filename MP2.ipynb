{
 "cells": [
  {
   "cell_type": "code",
   "execution_count": 1,
   "metadata": {},
   "outputs": [],
   "source": [
    "import os"
   ]
  },
  {
   "cell_type": "code",
   "execution_count": 2,
   "metadata": {},
   "outputs": [],
   "source": [
    "from nilearn.input_data import NiftiMasker\n",
    "from nilearn.plotting import plot_roi\n",
    "from nilearn.image.image import mean_img"
   ]
  },
  {
   "cell_type": "code",
   "execution_count": 3,
   "metadata": {},
   "outputs": [],
   "source": [
    "# As this is raw resting-state EPI, the background is noisy and we cannot\n",
    "# rely on the 'background' masking strategy. We need to use the 'epi' one\n",
    "nifti_masker = NiftiMasker(standardize=True, mask_strategy='epi',\n",
    "                           memory=\"nilearn_cache\", memory_level=2,\n",
    "                           smoothing_fwhm=8)\n"
   ]
  },
  {
   "cell_type": "code",
   "execution_count": 4,
   "metadata": {},
   "outputs": [],
   "source": [
    "filename = os.getcwd() + \"/dataset/train/Patient_01/Patient_01.nii.gz\""
   ]
  },
  {
   "cell_type": "code",
   "execution_count": 5,
   "metadata": {},
   "outputs": [],
   "source": [
    "nifti_masker.fit(filename)\n",
    "mask_img = nifti_masker.mask_img_"
   ]
  },
  {
   "cell_type": "code",
   "execution_count": 6,
   "metadata": {},
   "outputs": [],
   "source": [
    "# calculate mean image for the background\n",
    "mean_func_img = mean_img(filename)"
   ]
  },
  {
   "cell_type": "code",
   "execution_count": 15,
   "metadata": {},
   "outputs": [
    {
     "data": {
      "text/plain": [
       "<nilearn.plotting.displays.YSlicer at 0x131cbf208>"
      ]
     },
     "execution_count": 15,
     "metadata": {},
     "output_type": "execute_result"
    }
   ],
   "source": [
    "plot_roi(mask_img, mean_func_img, display_mode='y', cut_coords=4, title=\"Mask\")\n"
   ]
  },
  {
   "cell_type": "code",
   "execution_count": 11,
   "metadata": {},
   "outputs": [],
   "source": [
    "# Preprocess data with the NiftiMasker\n",
    "\n",
    "nifti_masker.fit(filename)\n",
    "fmri_masked = nifti_masker.transform(filename)\n",
    "# fmri_masked is now a 2D matrix, (n_voxels x n_time_points)"
   ]
  },
  {
   "cell_type": "code",
   "execution_count": 13,
   "metadata": {},
   "outputs": [
    {
     "name": "stderr",
     "output_type": "stream",
     "text": [
      "/Users/rc/Documents/Acads/1819/180/MP2/segthor/sklearn/decomposition/fastica_.py:303: UserWarning: n_components is too large: it will be set to 1\n",
      "  warnings.warn('n_components is too large: it will be set to %s' % n_components)\n"
     ]
    }
   ],
   "source": [
    "from sklearn.decomposition import FastICA\n",
    "n_components = 9\n",
    "ica = FastICA(n_components=n_components, random_state=42)\n",
    "components_masked = ica.fit_transform(fmri_masked.T).T"
   ]
  },
  {
   "cell_type": "code",
   "execution_count": 16,
   "metadata": {},
   "outputs": [
    {
     "name": "stderr",
     "output_type": "stream",
     "text": [
      "/Users/rc/Documents/Acads/1819/180/MP2/segthor/nilearn/input_data/base_masker.py:224: UserWarning: Persisting input arguments took 1.63s to run.\n",
      "If this happens often in your code, it can cause performance problems \n",
      "(results will be correct in all cases). \n",
      "The reason for this is probably some large input arguments for a wrapped\n",
      " function (e.g. large strings).\n",
      "THIS IS A JOBLIB ISSUE. If you can, kindly provide the joblib's team with an\n",
      " example so that they can fix the problem.\n",
      "  img = self._cache(masking.unmask)(X, self.mask_img_)\n"
     ]
    }
   ],
   "source": [
    "components = nifti_masker.inverse_transform(components_masked)\n",
    "\n",
    "# Visualize results\n",
    "from nilearn.plotting import plot_stat_map, show\n",
    "from nilearn.image import index_img\n",
    "\n",
    "plot_stat_map(index_img(components, 0), mean_func_img,\n",
    "              display_mode='y', cut_coords=4, title=\"Component 0\")\n",
    "\n",
    "show()"
   ]
  },
  {
   "cell_type": "code",
   "execution_count": null,
   "metadata": {},
   "outputs": [],
   "source": []
  }
 ],
 "metadata": {
  "kernelspec": {
   "display_name": "Python 3",
   "language": "python",
   "name": "python3"
  },
  "language_info": {
   "codemirror_mode": {
    "name": "ipython",
    "version": 3
   },
   "file_extension": ".py",
   "mimetype": "text/x-python",
   "name": "python",
   "nbconvert_exporter": "python",
   "pygments_lexer": "ipython3",
   "version": "3.7.3"
  }
 },
 "nbformat": 4,
 "nbformat_minor": 2
}
