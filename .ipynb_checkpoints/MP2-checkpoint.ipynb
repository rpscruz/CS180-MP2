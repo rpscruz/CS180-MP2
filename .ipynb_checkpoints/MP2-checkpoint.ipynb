{
 "cells": [
  {
   "cell_type": "markdown",
   "metadata": {},
   "source": [
    "# Automated segmentation of thorax CT scans using neural networks\n",
    "\n",
    "### CS 180 MP 2\n",
    "### Rianna Patricia Cruz\n",
    "\n",
    "## Introduction \n",
    "The identification of tumors and abnormal masses in medical imaging scans is one of the most important steps in the treatment of such abnormal conditions. Such a essential step in the treatment process is often tedious and time-consuming, as it requires a medical professional to manually identify such masses igiven some medical images such as CT or MRI scans. Though such identification process might be straightforward for a medical professional, the time it takes for such scans to be manually and individually processed and analyzed by a medical professional causes delays which might be critical to a patient's treatment.\n",
    "\n",
    "The objective of this study was to automatically segment four organs-at-risk (OAR): the heart, the aorta, the trachea, and the esophagus\n"
   ]
  },
  {
   "cell_type": "code",
   "execution_count": 2,
   "metadata": {},
   "outputs": [],
   "source": [
    "import datasets"
   ]
  },
  {
   "cell_type": "code",
   "execution_count": 88,
   "metadata": {},
   "outputs": [
    {
     "name": "stdout",
     "output_type": "stream",
     "text": [
      "01\n",
      "load_scans: loaded file\n",
      "load_scans: loaded data\n",
      "load_scans: computing scale to uniformity\n",
      "load_scans: rescaling to uniformity\n",
      "load_scans: final output scale is\n",
      "(512, 512, 186)\n",
      "(512, 512, 186)\n",
      "02\n",
      "load_scans: loaded file\n",
      "load_scans: loaded data\n",
      "load_scans: computing scale to uniformity\n",
      "load_scans: rescaling to uniformity\n",
      "load_scans: final output scale is\n",
      "(512, 512, 186)\n",
      "(512, 512, 186)\n",
      "03\n",
      "load_scans: loaded file\n",
      "load_scans: loaded data\n",
      "load_scans: computing scale to uniformity\n",
      "load_scans: rescaling to uniformity\n",
      "load_scans: final output scale is\n",
      "(512, 512, 186)\n",
      "(512, 512, 186)\n",
      "04\n",
      "load_scans: loaded file\n",
      "load_scans: loaded data\n",
      "load_scans: computing scale to uniformity\n",
      "load_scans: rescaling to uniformity\n",
      "load_scans: final output scale is\n",
      "(512, 512, 186)\n",
      "(512, 512, 186)\n",
      "done loading data\n"
     ]
    }
   ],
   "source": [
    "# print(\"[INFO] loading scan attributes...\")\n",
    "# ave_depth = get_ave_depth()\n",
    "# memoize: 186.\n",
    "ave_depth = 186\n",
    "scans, masks = datasets.load_scans(4, ave_depth)\n",
    "print(\"done loading data\")"
   ]
  },
  {
   "cell_type": "code",
   "execution_count": 97,
   "metadata": {},
   "outputs": [
    {
     "data": {
      "text/plain": [
       "(186, 512, 512, 4)"
      ]
     },
     "execution_count": 97,
     "metadata": {},
     "output_type": "execute_result"
    }
   ],
   "source": [
    "scans_T = scans.T\n",
    "masks_T = masks.T\n",
    "scans.shape\n",
    "masks.shape\n",
    "\n",
    "scans_T.shape"
   ]
  },
  {
   "cell_type": "code",
   "execution_count": 98,
   "metadata": {},
   "outputs": [
    {
     "name": "stdout",
     "output_type": "stream",
     "text": [
      "main: splitting data...\n",
      "main: done split\n"
     ]
    }
   ],
   "source": [
    "from sklearn.model_selection import train_test_split\n",
    "# partition the data into training and testing splits using 75% of\n",
    "# the data for training and the remaining 25% for testing\n",
    "print(\"main: splitting data...\")\n",
    "split = train_test_split(scans, masks, test_size=0.5, random_state=42)\n",
    "(X_train_0, X_test_0, y_train_0, y_test_0) = split\n",
    "print(\"main: done split\")"
   ]
  },
  {
   "cell_type": "code",
   "execution_count": 99,
   "metadata": {},
   "outputs": [
    {
     "name": "stdout",
     "output_type": "stream",
     "text": [
      "(186, 512, 512, 2)\n",
      "(186, 512, 512, 2)\n",
      "(186, 512, 512, 2)\n",
      "(186, 512, 512, 2)\n",
      "(512, 512, 2)\n",
      "(512, 512, 2)\n",
      "(512, 512, 2)\n",
      "(512, 512, 2)\n"
     ]
    }
   ],
   "source": [
    "print(X_train.shape)\n",
    "print(y_train.shape)\n",
    "print(X_test.shape)\n",
    "print(y_test.shape)\n",
    "\n",
    "print(X_train.shape[1:])\n",
    "print(y_train.shape[1:])\n",
    "print(X_test.shape[1:])\n",
    "print(y_test.shape[1:])"
   ]
  },
  {
   "cell_type": "code",
   "execution_count": 100,
   "metadata": {},
   "outputs": [
    {
     "data": {
      "text/plain": [
       "(2, 512, 512, 186)"
      ]
     },
     "execution_count": 100,
     "metadata": {},
     "output_type": "execute_result"
    }
   ],
   "source": [
    "# transpose for the sake of splitting training and test data\n",
    "X_train = X_train.T\n",
    "y_train = y_train.T\n",
    "\n",
    "X_test = X_test.T\n",
    "y_test = y_test.T\n",
    "X_train.shape\n",
    "X_test.shape"
   ]
  },
  {
   "cell_type": "code",
   "execution_count": 101,
   "metadata": {},
   "outputs": [
    {
     "name": "stdout",
     "output_type": "stream",
     "text": [
      "(2, 512, 512, 186)\n",
      "(2, 512, 512, 186)\n",
      "(2, 512, 512, 186)\n",
      "(2, 512, 512, 186)\n",
      "(512, 512, 186)\n",
      "(512, 512, 186)\n",
      "(512, 512, 186)\n",
      "(512, 512, 186)\n"
     ]
    }
   ],
   "source": [
    "print(X_train.shape)\n",
    "print(y_train.shape)\n",
    "print(X_test.shape)\n",
    "print(y_test.shape)\n",
    "\n",
    "print(X_train.shape[1:])\n",
    "print(y_train.shape[1:])\n",
    "print(X_test.shape[1:])\n",
    "print(y_test.shape[1:])"
   ]
  },
  {
   "cell_type": "code",
   "execution_count": 102,
   "metadata": {},
   "outputs": [],
   "source": [
    "from keras.models import Sequential\n",
    "from keras.layers import Input, Dense, TimeDistributed\n",
    "from keras.layers import LSTM\n",
    "from keras.layers import Dense, Conv3D, Conv2D, Conv1D, Flatten, MaxPooling2D"
   ]
  },
  {
   "cell_type": "code",
   "execution_count": 103,
   "metadata": {},
   "outputs": [],
   "source": [
    "# Training parameters\n",
    "batch_size = 100 # original = 32\n",
    "num_classes = 10\n",
    "epochs = 30"
   ]
  },
  {
   "cell_type": "code",
   "execution_count": 104,
   "metadata": {
    "scrolled": true
   },
   "outputs": [
    {
     "name": "stdout",
     "output_type": "stream",
     "text": [
      "main: creating model\n",
      "_________________________________________________________________\n",
      "Layer (type)                 Output Shape              Param #   \n",
      "=================================================================\n",
      "Total params: 0\n",
      "Trainable params: 0\n",
      "Non-trainable params: 0\n",
      "_________________________________________________________________\n"
     ]
    }
   ],
   "source": [
    "print(\"main: creating model\")\n",
    "model = Sequential()\n",
    "model.summary()"
   ]
  },
  {
   "cell_type": "code",
   "execution_count": 105,
   "metadata": {},
   "outputs": [
    {
     "data": {
      "text/plain": [
       "(512, 512, 186, 1)"
      ]
     },
     "execution_count": 105,
     "metadata": {},
     "output_type": "execute_result"
    }
   ],
   "source": [
    "input_shape = list(X_train.shape[1:])\n",
    "input_shape.append(1)\n",
    "input_shape = tuple(input_shape)\n",
    "input_shape"
   ]
  },
  {
   "cell_type": "code",
   "execution_count": 106,
   "metadata": {},
   "outputs": [
    {
     "data": {
      "text/plain": [
       "(-1, 512, 512, 186, 1)"
      ]
     },
     "execution_count": 106,
     "metadata": {},
     "output_type": "execute_result"
    }
   ],
   "source": [
    "reshape_input_shape = list(input_shape)\n",
    "reshape_input_shape.insert(0, -1)\n",
    "reshape_input_shape = tuple(reshape_input_shape)\n",
    "reshape_input_shape"
   ]
  },
  {
   "cell_type": "code",
   "execution_count": 107,
   "metadata": {},
   "outputs": [
    {
     "name": "stdout",
     "output_type": "stream",
     "text": [
      "(512, 512, 186, 1)\n"
     ]
    }
   ],
   "source": [
    "output_shape = list(X_test.shape[1:])\n",
    "output_shape.append(1)\n",
    "output_shape = tuple(output_shape)\n",
    "print(output_shape)"
   ]
  },
  {
   "cell_type": "code",
   "execution_count": 108,
   "metadata": {},
   "outputs": [
    {
     "data": {
      "text/plain": [
       "(-1, 512, 512, 186, 1)"
      ]
     },
     "execution_count": 108,
     "metadata": {},
     "output_type": "execute_result"
    }
   ],
   "source": [
    "reshape_output_shape = list(output_shape)\n",
    "reshape_output_shape.insert(0, -1)\n",
    "reshape_output_shape = tuple(reshape_output_shape)\n",
    "reshape_output_shape"
   ]
  },
  {
   "cell_type": "code",
   "execution_count": 109,
   "metadata": {},
   "outputs": [
    {
     "data": {
      "text/plain": [
       "(2, 512, 512, 186)"
      ]
     },
     "execution_count": 109,
     "metadata": {},
     "output_type": "execute_result"
    }
   ],
   "source": [
    "X_train_reshape = X_train.reshape(reshape_input_shape)\n",
    "y_train_reshape = y_train.reshape(reshape_input_shape)\n",
    "X_train.shape"
   ]
  },
  {
   "cell_type": "code",
   "execution_count": 110,
   "metadata": {},
   "outputs": [
    {
     "data": {
      "text/plain": [
       "(2, 512, 512, 186)"
      ]
     },
     "execution_count": 110,
     "metadata": {},
     "output_type": "execute_result"
    }
   ],
   "source": [
    "X_test_reshape = X_test.reshape(reshape_output_shape)\n",
    "y_test_reshape = y_test.reshape(reshape_output_shape)\n",
    "X_test.shape"
   ]
  },
  {
   "cell_type": "code",
   "execution_count": 131,
   "metadata": {},
   "outputs": [],
   "source": [
    "from keras.utils import to_categorical\n",
    "y_test_binary = to_categorical(y_test_reshape)\n",
    "y_train_binary = to_categorical(y_train_reshape)"
   ]
  },
  {
   "cell_type": "code",
   "execution_count": 132,
   "metadata": {},
   "outputs": [
    {
     "name": "stdout",
     "output_type": "stream",
     "text": [
      "input shape is (-1, 512, 512, 186, 1)\n",
      "output shape is (-1, 512, 512, 186, 1)\n"
     ]
    }
   ],
   "source": [
    "print(\"input shape is\", reshape_input_shape)\n",
    "print(\"output shape is\", reshape_output_shape)"
   ]
  },
  {
   "cell_type": "code",
   "execution_count": 133,
   "metadata": {},
   "outputs": [
    {
     "name": "stdout",
     "output_type": "stream",
     "text": [
      "X_test shape is (2, 512, 512, 186, 1)\n",
      "y_test shape is (2, 512, 512, 186, 2)\n",
      "X_train shape is (2, 512, 512, 186, 1)\n",
      "y_train shape is (2, 512, 512, 186, 2)\n"
     ]
    }
   ],
   "source": [
    "print(\"X_test shape is\", X_train_reshape.shape)\n",
    "print(\"y_test shape is\", y_train_binary.shape)\n",
    "print(\"X_train shape is\", X_test_reshape.shape)\n",
    "print(\"y_train shape is\", y_test_binary.shape)\n"
   ]
  },
  {
   "cell_type": "code",
   "execution_count": 134,
   "metadata": {},
   "outputs": [
    {
     "data": {
      "text/plain": [
       "(512, 512, 186, 1)"
      ]
     },
     "execution_count": 134,
     "metadata": {},
     "output_type": "execute_result"
    }
   ],
   "source": [
    "input_shape"
   ]
  },
  {
   "cell_type": "code",
   "execution_count": null,
   "metadata": {},
   "outputs": [],
   "source": [
    "print(\"main: creating model\")\n",
    "model = Sequential()\n",
    "model.summary()\n",
    "model.add(Conv3D(1, kernel_size = (8, 8, 8), activation='relu', input_shape=input_shape))\n",
    "model.summary()"
   ]
  },
  {
   "cell_type": "code",
   "execution_count": 142,
   "metadata": {},
   "outputs": [
    {
     "name": "stdout",
     "output_type": "stream",
     "text": [
      "main: compiling model\n"
     ]
    }
   ],
   "source": [
    "\n",
    "print(\"main: compiling model\")\n",
    "model.compile(loss='sparse_categorical_crossentropy',\n",
    "              optimizer='rmsprop',\n",
    "              metrics=['accuracy'])"
   ]
  },
  {
   "cell_type": "code",
   "execution_count": 143,
   "metadata": {},
   "outputs": [
    {
     "name": "stdout",
     "output_type": "stream",
     "text": [
      "(2, 512, 512, 186)\n",
      "(2, 512, 512, 186)\n",
      "(2, 512, 512, 186)\n",
      "(2, 512, 512, 186)\n"
     ]
    }
   ],
   "source": [
    "print(X_train.shape)\n",
    "print(X_test.shape)\n",
    "print(y_train.shape)\n",
    "print(y_test.shape)"
   ]
  },
  {
   "cell_type": "code",
   "execution_count": null,
   "metadata": {},
   "outputs": [
    {
     "name": "stdout",
     "output_type": "stream",
     "text": [
      "main: fitting model\n",
      "Train on 2 samples, validate on 2 samples\n",
      "Epoch 1/30\n"
     ]
    }
   ],
   "source": [
    "print(\"main: fitting model\")\n",
    "history = model.fit(X_train_reshape, y_train_reshape, \n",
    "          batch_size = batch_size,\n",
    "          epochs=epochs, \n",
    "          verbose=1, \n",
    "          validation_data=(X_test_reshape,y_test_reshape))"
   ]
  },
  {
   "cell_type": "code",
   "execution_count": null,
   "metadata": {},
   "outputs": [],
   "source": []
  },
  {
   "cell_type": "code",
   "execution_count": null,
   "metadata": {},
   "outputs": [],
   "source": []
  },
  {
   "cell_type": "code",
   "execution_count": null,
   "metadata": {},
   "outputs": [],
   "source": []
  }
 ],
 "metadata": {
  "kernelspec": {
   "display_name": "Python 3",
   "language": "python",
   "name": "python3"
  },
  "language_info": {
   "codemirror_mode": {
    "name": "ipython",
    "version": 3
   },
   "file_extension": ".py",
   "mimetype": "text/x-python",
   "name": "python",
   "nbconvert_exporter": "python",
   "pygments_lexer": "ipython3",
   "version": "3.6.5"
  }
 },
 "nbformat": 4,
 "nbformat_minor": 2
}
